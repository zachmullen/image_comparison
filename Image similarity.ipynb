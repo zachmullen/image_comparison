{
 "cells": [
  {
   "cell_type": "markdown",
   "metadata": {},
   "source": [
    "## Image similarity computation\n",
    "\n",
    "We will use the [Jaccard index](https://en.wikipedia.org/wiki/Jaccard_index) as a rudimentary metric for similarity of two binary images, for use in evaluating accuracy of image segmentation algorithms.\n",
    "\n",
    "To do this, we need to compare our result image against some known ground-truth image that is assumed to be the gold standard of correctness."
   ]
  },
  {
   "cell_type": "code",
   "execution_count": 2,
   "metadata": {
    "collapsed": true
   },
   "outputs": [],
   "source": [
    "import numpy as np\n",
    "import nibabel\n",
    "\n",
    "test_nib_img = nibabel.load('./segmented_bones.nii.gz')\n",
    "truth_nib_img = nibabel.load('./ground_truth.nii.gz')\n",
    "test_img = test_nib_img.get_data()\n",
    "truth_img = truth_nib_img.get_data()"
   ]
  },
  {
   "cell_type": "markdown",
   "metadata": {},
   "source": [
    "Make sure the images are the same size, or our comparison won't work. Also convert their data to `bool` type."
   ]
  },
  {
   "cell_type": "code",
   "execution_count": 3,
   "metadata": {
    "collapsed": true
   },
   "outputs": [],
   "source": [
    "assert test_img.shape == truth_img.shape\n",
    "assert test_img.dtype == truth_img.dtype\n",
    "\n",
    "test_img = test_img.astype(np.bool)\n",
    "truth_img = truth_img.astype(np.bool)"
   ]
  },
  {
   "cell_type": "markdown",
   "metadata": {},
   "source": [
    "Compute the union and intersection of the sets of pixels that have value=1 in each image."
   ]
  },
  {
   "cell_type": "code",
   "execution_count": 4,
   "metadata": {},
   "outputs": [
    {
     "data": {
      "text/plain": [
       "0.76785292695814455"
      ]
     },
     "execution_count": 4,
     "metadata": {},
     "output_type": "execute_result"
    }
   ],
   "source": [
    "intersection = np.logical_and(test_img, truth_img)\n",
    "union = np.logical_or(test_img, truth_img)\n",
    "jaccard = intersection.sum() / float(union.sum())\n",
    "jaccard"
   ]
  },
  {
   "cell_type": "markdown",
   "metadata": {},
   "source": [
    "Next task: implement the similar, but slightly different [Sørensen–Dice coefficient](https://en.wikipedia.org/wiki/S%C3%B8rensen%E2%80%93Dice_coefficient)"
   ]
  },
  {
   "cell_type": "code",
   "execution_count": null,
   "metadata": {
    "collapsed": true
   },
   "outputs": [],
   "source": []
  }
 ],
 "metadata": {
  "kernelspec": {
   "display_name": "Python 3",
   "language": "python",
   "name": "python3"
  },
  "language_info": {
   "codemirror_mode": {
    "name": "ipython",
    "version": 3
   },
   "file_extension": ".py",
   "mimetype": "text/x-python",
   "name": "python",
   "nbconvert_exporter": "python",
   "pygments_lexer": "ipython3",
   "version": "3.4.3"
  }
 },
 "nbformat": 4,
 "nbformat_minor": 2
}
